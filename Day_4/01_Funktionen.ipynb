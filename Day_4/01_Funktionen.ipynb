{
    "metadata": {
        "kernelspec": {
            "name": "SQL",
            "display_name": "SQL",
            "language": "sql"
        },
        "language_info": {
            "name": "sql",
            "version": ""
        }
    },
    "nbformat_minor": 2,
    "nbformat": 4,
    "cells": [
        {
            "cell_type": "markdown",
            "source": [
                "# Funktionen"
            ],
            "metadata": {
                "azdata_cell_guid": "8bdc3f8c-7b41-4b26-bd1a-8cbbd526cb5e"
            },
            "attachments": {}
        },
        {
            "cell_type": "markdown",
            "source": [
                "## Datums- und Uhrzeitfunktionen"
            ],
            "metadata": {
                "azdata_cell_guid": "6950c863-6d2a-4ba6-9c22-c30b5828342e"
            },
            "attachments": {}
        },
        {
            "cell_type": "code",
            "source": [
                "SELECT DATEADD(year, 3, '2017-08-25') AS DateAdd;"
            ],
            "metadata": {
                "azdata_cell_guid": "c64791ac-4dd7-452a-aedc-89702c7bc8de",
                "language": "sql"
            },
            "outputs": [
{
    "output_type": "display_data",
    "data": {
        "text/html": "(1 row affected)"
    },
    "metadata": {}
}, {
    "output_type": "display_data",
    "data": {
        "text/html": "Total execution time: 00:00:00.018"
    },
    "metadata": {}
}, {
    "output_type": "execute_result",
    "metadata": {},
    "execution_count": 4,
    "data": {
        "application/vnd.dataresource+json": {
            "schema": {
                "fields": [
                    {
                        "name": "DateAdd"
                    }
                ]
            },
            "data": [
                {
                    "DateAdd": "2020-08-25 00:00:00.000"
                }
            ]
        },
        "text/html": [
            "<table>",
            "<tr><th>DateAdd</th></tr>",
            "<tr><td>2020-08-25 00:00:00.000</td></tr>",
            "</table>"
        ]
    }
}
],
            "execution_count": 4
        }
    ]
}