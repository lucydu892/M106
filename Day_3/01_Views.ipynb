{
    "metadata": {
        "kernelspec": {
            "name": "SQL",
            "display_name": "SQL",
            "language": "sql"
        },
        "language_info": {
            "name": "sql",
            "version": ""
        }
    },
    "nbformat_minor": 2,
    "nbformat": 4,
    "cells": [
        {
            "cell_type": "markdown",
            "source": [
                "# Views"
            ],
            "metadata": {
                "azdata_cell_guid": "0dc8f89f-8f55-44db-994d-8790316d21ec"
            },
            "attachments": {}
        },
        {
            "cell_type": "markdown",
            "source": [
                "## Ausprobieren"
            ],
            "metadata": {
                "azdata_cell_guid": "7f1b502e-e95c-40a9-950d-d5a7823d7ac7"
            },
            "attachments": {}
        },
        {
            "cell_type": "code",
            "source": [
                "CREATE VIEW CalifornianCities AS\r\n",
                "    SELECT c.CityID, c.CityName, sp.StateProvinceID,sp.StateProvinceCode, sp.StateProvinceName FROM Application.Cities c \r\n",
                "    INNER JOIN Application.StateProvinces sp ON c.StateProvinceID = sp.StateProvinceID\r\n",
                "WHERE StateProvinceName = 'Californian'"
            ],
            "metadata": {
                "azdata_cell_guid": "9c0a1938-979e-43f8-8dfb-d101321ddd18",
                "language": "sql"
            },
            "outputs": [
                {
                    "output_type": "display_data",
                    "data": {
                        "text/html": "Commands completed successfully."
                    },
                    "metadata": {}
                },
                {
                    "output_type": "display_data",
                    "data": {
                        "text/html": "Total execution time: 00:00:00.007"
                    },
                    "metadata": {}
                }
            ],
            "execution_count": 21
        },
        {
            "cell_type": "code",
            "source": [
                "SELECT * FROM CalifornianCities WHERE CityName = 'Los Angeles'"
            ],
            "metadata": {
                "language": "sql",
                "azdata_cell_guid": "40e6fbd7-9c6e-46d6-9cb9-6c0b731b0c39"
            },
            "outputs": [
{
    "output_type": "display_data",
    "data": {
        "text/html": "(0 rows affected)"
    },
    "metadata": {}
}, {
    "output_type": "display_data",
    "data": {
        "text/html": "Total execution time: 00:00:00.050"
    },
    "metadata": {}
}, {
    "output_type": "execute_result",
    "metadata": {},
    "execution_count": 24,
    "data": {
        "application/vnd.dataresource+json": {
            "schema": {
                "fields": [
                    {
                        "name": "CityID"
                    },
                    {
                        "name": "CityName"
                    },
                    {
                        "name": "StateProvinceID"
                    },
                    {
                        "name": "StateProvinceCode"
                    },
                    {
                        "name": "StateProvinceName"
                    }
                ]
            },
            "data": []
        },
        "text/html": [
            "<table>",
            "<tr><th>CityID</th><th>CityName</th><th>StateProvinceID</th><th>StateProvinceCode</th><th>StateProvinceName</th></tr>",
            "</table>"
        ]
    }
}
],
            "execution_count": 24
        },
        {
            "cell_type": "code",
            "source": [
                "SELECT * FROM CalifornianCities;\r\n",
                ""
            ],
            "metadata": {
                "language": "sql",
                "azdata_cell_guid": "22c03193-de7d-4495-9bcb-ed7c6a31ae33"
            },
            "outputs": [
                {
                    "output_type": "display_data",
                    "data": {
                        "text/html": "(0 rows affected)"
                    },
                    "metadata": {}
                },
                {
                    "output_type": "display_data",
                    "data": {
                        "text/html": "Total execution time: 00:00:00.046"
                    },
                    "metadata": {}
                },
                {
                    "output_type": "execute_result",
                    "metadata": {},
                    "execution_count": 23,
                    "data": {
                        "application/vnd.dataresource+json": {
                            "schema": {
                                "fields": [
                                    {
                                        "name": "CityID"
                                    },
                                    {
                                        "name": "CityName"
                                    },
                                    {
                                        "name": "StateProvinceID"
                                    },
                                    {
                                        "name": "StateProvinceCode"
                                    },
                                    {
                                        "name": "StateProvinceName"
                                    }
                                ]
                            },
                            "data": []
                        },
                        "text/html": [
                            "<table>",
                            "<tr><th>CityID</th><th>CityName</th><th>StateProvinceID</th><th>StateProvinceCode</th><th>StateProvinceName</th></tr>",
                            "</table>"
                        ]
                    }
                }
            ],
            "execution_count": 23
        },
        {
            "cell_type": "code",
            "source": [
                "DROP VIEW CalifornianCities"
            ],
            "metadata": {
                "language": "sql",
                "azdata_cell_guid": "abb805ca-353b-4027-a72e-6fa2f558f360"
            },
            "outputs": [
                {
                    "output_type": "display_data",
                    "data": {
                        "text/html": "Commands completed successfully."
                    },
                    "metadata": {}
                },
                {
                    "output_type": "display_data",
                    "data": {
                        "text/html": "Total execution time: 00:00:00.023"
                    },
                    "metadata": {}
                }
            ],
            "execution_count": 20
        }
    ]
}