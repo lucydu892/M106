{
    "metadata": {
        "kernelspec": {
            "name": "SQL",
            "display_name": "SQL",
            "language": "sql"
        },
        "language_info": {
            "name": "sql",
            "version": ""
        },
        "extensions": {
            "azuredatastudio": {
                "version": 1,
                "views": []
            }
        }
    },
    "nbformat_minor": 2,
    "nbformat": 4,
    "cells": [
        {
            "cell_type": "markdown",
            "source": [
                "Maskiere die Emailadressen in der Spalte _LogonName_ der Tabelle _People_ mit der geeigneten Maskierungsfunktion."
            ],
            "metadata": {
                "azdata_cell_guid": "1f37b712-2f0a-41c2-813f-8053e328c3c6",
                "extensions": {
                    "azuredatastudio": {
                        "views": []
                    }
                }
            },
            "attachments": {}
        },
        {
            "cell_type": "code",
            "source": [
                "USE WideWorldImporters\r\n",
                "GO\r\n",
                "ALTER TABLE Application.People\r\n",
                "ALTER COLUMN LogOnNane ADD MASKED WITH (FUNCTION = 'email()')"
            ],
            "metadata": {
                "azdata_cell_guid": "0cff736d-ac76-43e8-982d-dfb02d96c728",
                "extensions": {
                    "azuredatastudio": {
                        "views": []
                    }
                },
                "tags": [],
                "language": "sql"
            },
            "outputs": [
{
    "output_type": "display_data",
    "data": {
        "text/html": "Commands completed successfully."
    },
    "metadata": {}
}, {
    "output_type": "error",
    "evalue": "Msg 4924, Level 16, State 1, Line 3\r\nALTER TABLE ALTER COLUMN failed because column 'LogOnNane' does not exist in table 'People_Archive'.",
    "ename": "",
    "traceback": []
}, {
    "output_type": "display_data",
    "data": {
        "text/html": "Total execution time: 00:00:00.011"
    },
    "metadata": {}
}
],
            "execution_count": 4
        },
        {
            "cell_type": "markdown",
            "source": [
                "Prüfe nun, ob die Daten mit dem User _ethan_ wirklich maskiert daherkommen."
            ],
            "metadata": {
                "azdata_cell_guid": "49aba569-33f6-4df0-8640-aa441b94a38c"
            },
            "attachments": {}
        },
        {
            "cell_type": "code",
            "source": [
                ""
            ],
            "metadata": {
                "azdata_cell_guid": "e1e7f8ac-463a-41aa-a834-1f16565c6681",
                "tags": [],
                "language": "sql"
            },
            "outputs": [],
            "execution_count": null
        },
        {
            "cell_type": "markdown",
            "source": [
                "Verschlüssle die Werte in der Spalte _CustomerID_ der Tabelle _CustomerTransactions_ und speichere diese in einer separaten Spalte. Verwende dabei den bereits erstellten Database Master Key."
            ],
            "metadata": {
                "azdata_cell_guid": "445ed272-cdd6-4422-86c4-a2598d72e150"
            },
            "attachments": {}
        },
        {
            "cell_type": "code",
            "source": [
                ""
            ],
            "metadata": {
                "azdata_cell_guid": "b86a1e67-d60a-499c-bb5a-27008c8c2b89",
                "language": "sql"
            },
            "outputs": [],
            "execution_count": null
        },
        {
            "cell_type": "markdown",
            "source": [
                "Prüfe anschliessend, ob die neue, verschlüsselte Spalte wieder korrekt entschlüsselt werden kann."
            ],
            "metadata": {
                "azdata_cell_guid": "dad7f864-cfb4-4b4a-aa06-ee86b138d3db"
            },
            "attachments": {}
        },
        {
            "cell_type": "code",
            "source": [
                ""
            ],
            "metadata": {
                "azdata_cell_guid": "0c95b6b9-5227-434d-a64f-7c98d3d5c576",
                "language": "sql"
            },
            "outputs": [],
            "execution_count": null
        }
    ]
}