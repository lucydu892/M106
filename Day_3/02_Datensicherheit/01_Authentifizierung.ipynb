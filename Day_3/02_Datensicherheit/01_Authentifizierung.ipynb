{
    "metadata": {
        "kernelspec": {
            "name": "SQL",
            "display_name": "SQL",
            "language": "sql"
        },
        "language_info": {
            "name": "sql",
            "version": ""
        }
    },
    "nbformat_minor": 2,
    "nbformat": 4,
    "cells": [
        {
            "cell_type": "markdown",
            "source": [
                "# Authentifizierung"
            ],
            "metadata": {
                "azdata_cell_guid": "b462fb21-33a0-4473-8212-7acac777144a"
            },
            "attachments": {}
        },
        {
            "cell_type": "code",
            "source": [
                "CREATE DATABASE demo_security"
            ],
            "metadata": {
                "language": "sql",
                "azdata_cell_guid": "03c9e500-695b-4c53-b577-06a98adc5ccb"
            },
            "outputs": [
                {
                    "output_type": "display_data",
                    "data": {
                        "text/html": "Commands completed successfully."
                    },
                    "metadata": {}
                },
                {
                    "output_type": "display_data",
                    "data": {
                        "text/html": "Total execution time: 00:00:00.525"
                    },
                    "metadata": {}
                }
            ],
            "execution_count": 1
        },
        {
            "cell_type": "code",
            "source": [
                "-- SQL Server-Login erstellen\r\n",
                "USE master;\r\n",
                "CREATE LOGIN luadmin\r\n",
                "WITH PASSWORD = 'passwort', CHECK_POLICY = OFF;"
            ],
            "metadata": {
                "azdata_cell_guid": "adca7bb7-2286-40e8-a9ba-c5407c5ba1a3",
                "language": "sql"
            },
            "outputs": [
                {
                    "output_type": "display_data",
                    "data": {
                        "text/html": "Commands completed successfully."
                    },
                    "metadata": {}
                },
                {
                    "output_type": "display_data",
                    "data": {
                        "text/html": "Total execution time: 00:00:00.014"
                    },
                    "metadata": {}
                }
            ],
            "execution_count": 2
        },
        {
            "cell_type": "code",
            "source": [
                "-- Einem Login ein User zuordnen\r\n",
                "USE demo_security;\r\n",
                "CREATE USER luadmin FOR LOGIN luadmin;"
            ],
            "metadata": {
                "language": "sql",
                "azdata_cell_guid": "bab0ab63-36b1-466b-9698-ed4c360eb06b"
            },
            "outputs": [
                {
                    "output_type": "display_data",
                    "data": {
                        "text/html": "Commands completed successfully."
                    },
                    "metadata": {}
                },
                {
                    "output_type": "display_data",
                    "data": {
                        "text/html": "Total execution time: 00:00:00.011"
                    },
                    "metadata": {}
                }
            ],
            "execution_count": 4
        },
        {
            "cell_type": "code",
            "source": [
                "-- Server Login löschen\r\n",
                "DROP LOGIN luadmin;\r\n",
                "\r\n",
                "-- Datenbank User löschen\r\n",
                "DROP USER luadmin;\r\n",
                ""
            ],
            "metadata": {
                "language": "sql",
                "azdata_cell_guid": "89c22239-233f-4845-9eac-f977e3c3593e"
            },
            "outputs": [
{
    "output_type": "display_data",
    "data": {
        "text/html": "Commands completed successfully."
    },
    "metadata": {}
}, {
    "output_type": "display_data",
    "data": {
        "text/html": "Total execution time: 00:00:00.172"
    },
    "metadata": {}
}
],
            "execution_count": 6
        }
    ]
}