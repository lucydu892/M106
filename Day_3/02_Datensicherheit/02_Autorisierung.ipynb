{
    "metadata": {
        "kernelspec": {
            "name": "SQL",
            "display_name": "SQL",
            "language": "sql"
        },
        "language_info": {
            "name": "sql",
            "version": ""
        },
        "extensions": {
            "azuredatastudio": {
                "version": 1,
                "views": []
            }
        }
    },
    "nbformat_minor": 2,
    "nbformat": 4,
    "cells": [
        {
            "cell_type": "markdown",
            "source": [
                "Erstelle ein neues Login für den Mitarbeiter _ethan_ mit dem Passwort: WWI4eth!"
            ],
            "metadata": {
                "azdata_cell_guid": "1f37b712-2f0a-41c2-813f-8053e328c3c6",
                "extensions": {
                    "azuredatastudio": {
                        "views": []
                    }
                }
            },
            "attachments": {}
        },
        {
            "cell_type": "code",
            "source": [
                "USE master\r\n",
                "CREATE LOGIN ethan \r\n",
                "WITH PASSWORD = 'WWI4eth!', CHECK_POLICY = OFF;"
            ],
            "metadata": {
                "azdata_cell_guid": "0cff736d-ac76-43e8-982d-dfb02d96c728",
                "extensions": {
                    "azuredatastudio": {
                        "views": []
                    }
                },
                "tags": [],
                "language": "sql"
            },
            "outputs": [
                {
                    "output_type": "display_data",
                    "data": {
                        "text/html": "Commands completed successfully."
                    },
                    "metadata": {}
                },
                {
                    "output_type": "display_data",
                    "data": {
                        "text/html": "Total execution time: 00:00:00.009"
                    },
                    "metadata": {}
                }
            ],
            "execution_count": 2
        },
        {
            "cell_type": "markdown",
            "source": [
                "Erstellen nun in der WWI-Datenbank für das soeben erstellte Login einen User und weise ihm die Rolle zu, die Lesezugriff auf alle Objekte ermöglicht."
            ],
            "metadata": {
                "azdata_cell_guid": "81080d3e-cdf4-4a05-9aef-978c50eebfdc"
            },
            "attachments": {}
        },
        {
            "cell_type": "code",
            "source": [
                "USE WideWorldImporters;\r\n",
                "CREATE USER ethan FOR LOGIN ethan;"
            ],
            "metadata": {
                "azdata_cell_guid": "3000adc6-19ce-4e67-97fb-eaaff6cd38d5",
                "language": "sql"
            },
            "outputs": [
                {
                    "output_type": "error",
                    "evalue": "Msg 15023, Level 16, State 5, Line 2\r\nUser, group, or role 'ethan' already exists in the current database.",
                    "ename": "",
                    "traceback": []
                },
                {
                    "output_type": "display_data",
                    "data": {
                        "text/html": "Total execution time: 00:00:00.002"
                    },
                    "metadata": {}
                }
            ],
            "execution_count": 6
        },
        {
            "cell_type": "code",
            "source": [
                "GRANT SELECT TO ethan"
            ],
            "metadata": {
                "language": "sql",
                "azdata_cell_guid": "194a5e6d-a5df-4596-91f4-91386b9607c9"
            },
            "outputs": [
                {
                    "output_type": "display_data",
                    "data": {
                        "text/html": "Commands completed successfully."
                    },
                    "metadata": {}
                },
                {
                    "output_type": "display_data",
                    "data": {
                        "text/html": "Total execution time: 00:00:00.004"
                    },
                    "metadata": {}
                }
            ],
            "execution_count": 8
        },
        {
            "cell_type": "markdown",
            "source": [
                "Erlaube dem Benutzer _ethan_ nur die existierenden Datensätze in den Tabellen _Orders_ und _OrderLines_ zu verändern."
            ],
            "metadata": {
                "azdata_cell_guid": "0d2b2779-b798-45bc-9a8a-70c82b09976c",
                "extensions": {
                    "azuredatastudio": {
                        "views": []
                    }
                }
            },
            "attachments": {}
        },
        {
            "cell_type": "code",
            "source": [
                "GRANT SELECT, UPDATE ON Sales.Orders TO ethan;\r\n",
                "GRANT SELECT, UPDATE ON Sales.OrderLines TO ethan;"
            ],
            "metadata": {
                "azdata_cell_guid": "e76522af-3721-47be-91d9-040871e05360",
                "extensions": {
                    "azuredatastudio": {
                        "views": []
                    }
                },
                "language": "sql"
            },
            "outputs": [
                {
                    "output_type": "display_data",
                    "data": {
                        "text/html": "Commands completed successfully."
                    },
                    "metadata": {}
                },
                {
                    "output_type": "display_data",
                    "data": {
                        "text/html": "Total execution time: 00:00:00.019"
                    },
                    "metadata": {}
                }
            ],
            "execution_count": 12
        },
        {
            "cell_type": "markdown",
            "source": [
                "Verweigere dem Benutzer _ethan_ Mutationen jeglicher Art in den Tabellen _Invoices_ und _InvoiceLines_ auszuführen."
            ],
            "metadata": {
                "azdata_cell_guid": "1a20ddc1-a51b-470f-803a-d678fabb4f07"
            },
            "attachments": {}
        },
        {
            "cell_type": "code",
            "source": [
                "DENY SELECT, INSERT, UPDATE, DELETE ON Sales.Invoices TO ethan;\r\n",
                "DENY SELECT, INSERT, UPDATE, DELETE ON Sales.InvoiceLines TO ethan;"
            ],
            "metadata": {
                "azdata_cell_guid": "20373693-79c2-4eaf-a143-be4c17c3e7e9",
                "language": "sql"
            },
            "outputs": [
                {
                    "output_type": "display_data",
                    "data": {
                        "text/html": "Commands completed successfully."
                    },
                    "metadata": {}
                },
                {
                    "output_type": "display_data",
                    "data": {
                        "text/html": "Total execution time: 00:00:00.017"
                    },
                    "metadata": {}
                }
            ],
            "execution_count": 14
        },
        {
            "cell_type": "markdown",
            "source": [
                "Erstelle ein weiteres Login namens _stella_ mit dem Passwort _WWI4ste!_ mittels eines SQL-Scripts, in welchem:\n",
                "\n",
                "- das Login der Serverrolle _bulkadmin_ zugewiesen wird\n",
                "- für das Login ein gleichnamiger User in der Datenbank WideWorldImporters erstellt wird\n",
                "- dafür gesorgt wird, dass das Kennwort _nie_ abläuft und die Kennwort-Richtlinie zur Anwendung kommt\n",
                "- der User Daten im Schema _Warehouse_ erfassen kann"
            ],
            "metadata": {
                "azdata_cell_guid": "afb4f1f2-bbf0-4dc1-af9f-efe959b664ef",
                "extensions": {
                    "azuredatastudio": {
                        "views": []
                    }
                }
            },
            "attachments": {}
        },
        {
            "cell_type": "code",
            "source": [
                "USE master\r\n",
                "CREATE LOGIN stella \r\n",
                "WITH PASSWORD = 'WWI4ste!', CHECK_EXPIRATION = OFF, CHECK_POLICY = ON;"
            ],
            "metadata": {
                "azdata_cell_guid": "415e7c0c-7842-4860-8fce-3898c3fa481b",
                "extensions": {
                    "azuredatastudio": {
                        "views": []
                    }
                },
                "language": "sql"
            },
            "outputs": [
                {
                    "output_type": "display_data",
                    "data": {
                        "text/html": "Commands completed successfully."
                    },
                    "metadata": {}
                },
                {
                    "output_type": "display_data",
                    "data": {
                        "text/html": "Total execution time: 00:00:00.019"
                    },
                    "metadata": {}
                }
            ],
            "execution_count": 22
        },
        {
            "cell_type": "code",
            "source": [
                "USE WideWorldImporters;\r\n",
                "CREATE USER stella FOR LOGIN stella;"
            ],
            "metadata": {
                "language": "sql",
                "azdata_cell_guid": "6ecf68df-218e-4f56-abc1-62cc856908a0"
            },
            "outputs": [
                {
                    "output_type": "display_data",
                    "data": {
                        "text/html": "Commands completed successfully."
                    },
                    "metadata": {}
                },
                {
                    "output_type": "display_data",
                    "data": {
                        "text/html": "Total execution time: 00:00:00.011"
                    },
                    "metadata": {}
                }
            ],
            "execution_count": 24
        },
        {
            "cell_type": "code",
            "source": [
                "USE master;\r\n",
                "ALTER SERVER ROLE bulkadmin ADD MEMBER stella;"
            ],
            "metadata": {
                "language": "sql",
                "azdata_cell_guid": "e5067bf0-d56e-4e76-beaf-ae57765b788b"
            },
            "outputs": [
                {
                    "output_type": "display_data",
                    "data": {
                        "text/html": "Commands completed successfully."
                    },
                    "metadata": {}
                },
                {
                    "output_type": "display_data",
                    "data": {
                        "text/html": "Total execution time: 00:00:00.003"
                    },
                    "metadata": {}
                }
            ],
            "execution_count": 25
        },
        {
            "cell_type": "code",
            "source": [
                "USE WideWorldImporters\r\n",
                "GRANT SELECT, UPDATE ON SCHEMA::Warehouse TO stella;\r\n",
                ""
            ],
            "metadata": {
                "language": "sql",
                "azdata_cell_guid": "7e3cc262-3738-4462-b5e9-01975979e96a"
            },
            "outputs": [
                {
                    "output_type": "display_data",
                    "data": {
                        "text/html": "Commands completed successfully."
                    },
                    "metadata": {}
                },
                {
                    "output_type": "display_data",
                    "data": {
                        "text/html": "Total execution time: 00:00:00.010"
                    },
                    "metadata": {}
                }
            ],
            "execution_count": 27
        },
        {
            "cell_type": "markdown",
            "source": [
                "Der neuen Userin _stella_ muss noch die Berechtigung erteilt werden, Tabellen im Schema _WareHouse_ erstellen zu können."
            ],
            "metadata": {
                "azdata_cell_guid": "23acf8f2-b953-4416-83e1-2d5f5f6981f7"
            },
            "attachments": {}
        },
        {
            "cell_type": "code",
            "source": [
                ""
            ],
            "metadata": {
                "azdata_cell_guid": "155e01d8-4551-4857-bdc9-b850cae58201",
                "language": "sql"
            },
            "outputs": [],
            "execution_count": null
        }
    ]
}