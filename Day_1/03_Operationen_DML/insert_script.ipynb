{
    "metadata": {
        "kernelspec": {
            "name": "SQL",
            "display_name": "SQL",
            "language": "sql"
        },
        "language_info": {
            "name": "sql",
            "version": ""
        }
    },
    "nbformat_minor": 2,
    "nbformat": 4,
    "cells": [
        {
            "cell_type": "markdown",
            "source": [
                "# Operationen (DML)"
            ],
            "metadata": {
                "azdata_cell_guid": "831464e7-6e0f-4dbe-8493-f80054434b03"
            },
            "attachments": {}
        },
        {
            "cell_type": "code",
            "source": [
                "USE m106;\n",
                "GO\n",
                "-- Record einfügen mit expliziter Angabe der Spalten\n",
                "-- Achtung: Reihenfolge der Values muss stimmen\n",
                "INSERT INTO verkauf.kunden (vorname, nachname) VALUES ('Hans', 'Meier');\n",
                ""
            ],
            "metadata": {
                "azdata_cell_guid": "445df725-9c63-4401-9d26-bec233ae058a",
                "language": "sql"
            },
            "outputs": [
                {
                    "output_type": "display_data",
                    "data": {
                        "text/html": "Commands completed successfully."
                    },
                    "metadata": {}
                },
                {
                    "output_type": "display_data",
                    "data": {
                        "text/html": "(1 row affected)"
                    },
                    "metadata": {}
                },
                {
                    "output_type": "display_data",
                    "data": {
                        "text/html": "Total execution time: 00:00:00.141"
                    },
                    "metadata": {}
                }
            ],
            "execution_count": 18
        },
        {
            "cell_type": "code",
            "source": [
                "-- Record einfügen ohne Angabe der Spalten\r\n",
                "INSERT INTO verkauf.kunden VALUES ('Peter', 'Müller');"
            ],
            "metadata": {
                "language": "sql",
                "azdata_cell_guid": "6a0eb73a-9e1b-4f0a-915e-efa3544354c0"
            },
            "outputs": [
                {
                    "output_type": "display_data",
                    "data": {
                        "text/html": "(1 row affected)"
                    },
                    "metadata": {}
                },
                {
                    "output_type": "display_data",
                    "data": {
                        "text/html": "Total execution time: 00:00:00.056"
                    },
                    "metadata": {}
                }
            ],
            "execution_count": 19
        },
        {
            "cell_type": "code",
            "source": [
                "-- Record einfügen, bei dem der Default-Constraint greift\r\n",
                "INSERT INTO verkauf.kunden (nachname) VALUES ('Matter');"
            ],
            "metadata": {
                "language": "sql",
                "azdata_cell_guid": "f18eedcd-e567-4d64-8c51-0a3cce1afdbf"
            },
            "outputs": [
                {
                    "output_type": "display_data",
                    "data": {
                        "text/html": "(1 row affected)"
                    },
                    "metadata": {}
                },
                {
                    "output_type": "display_data",
                    "data": {
                        "text/html": "Total execution time: 00:00:00.241"
                    },
                    "metadata": {}
                }
            ],
            "execution_count": 3
        },
        {
            "cell_type": "code",
            "source": [
                "-- Beispiel einer Fremdschlüsselverletzung\r\n",
                "INSERT INTO verkauf.bestellungen (bestelldatum, kundenid) \r\n",
                "VALUES ('21.07.2023 10:34:05', 10)"
            ],
            "metadata": {
                "language": "sql",
                "azdata_cell_guid": "c7c5d6cf-3af5-4d91-b986-7fcf66ea3ccf"
            },
            "outputs": [
                {
                    "output_type": "error",
                    "evalue": "Msg 242, Level 16, State 3, Line 2\r\nThe conversion of a varchar data type to a datetime data type resulted in an out-of-range value.",
                    "ename": "",
                    "traceback": []
                },
                {
                    "output_type": "display_data",
                    "data": {
                        "text/html": "The statement has been terminated."
                    },
                    "metadata": {}
                },
                {
                    "output_type": "display_data",
                    "data": {
                        "text/html": "Total execution time: 00:00:00.009"
                    },
                    "metadata": {}
                }
            ],
            "execution_count": 20
        },
        {
            "cell_type": "code",
            "source": [
                "-- Beispiel, bei dem der CHECK-Constraint verletzt wird \r\n",
                "INSERT INTO verkauf.produkte (produktname, energielabel) VALUES ('Elektrogrill', 'G');"
            ],
            "metadata": {
                "azdata_cell_guid": "b46175d6-2d7f-4aa2-a210-dcce658d2cdf",
                "language": "sql"
            },
            "outputs": [
                {
                    "output_type": "error",
                    "evalue": "Msg 547, Level 16, State 0, Line 2\r\nThe INSERT statement conflicted with the CHECK constraint \"CK__produkte__energi__5AEE82B9\". The conflict occurred in database \"m106\", table \"verkauf.produkte\", column 'energielabel'.",
                    "ename": "",
                    "traceback": []
                },
                {
                    "output_type": "display_data",
                    "data": {
                        "text/html": "The statement has been terminated."
                    },
                    "metadata": {}
                },
                {
                    "output_type": "display_data",
                    "data": {
                        "text/html": "Total execution time: 00:00:00.010"
                    },
                    "metadata": {}
                }
            ],
            "execution_count": 21
        },
        {
            "cell_type": "code",
            "source": [
                "-- mehrere Records mit einem Statement in die Tabelle kunden einfügen\r\n",
                "INSERT INTO verkauf.kunden (vorname, nachname) \r\n",
                "VALUES ('Bruno', 'Moser'), ('Heinz', 'Manser');\r\n",
                "\r\n",
                "-- mehrere Records mit einem Statement in die Tabelle produkte einfügen\r\n",
                "INSERT INTO verkauf.produkte VALUES \r\n",
                "('Zitronenpresse',4.9,'A'), \r\n",
                "('Gartenlounge',224,NULL), \r\n",
                "('Fahrradträger',334.5,NULL), \r\n",
                "('Weinkühlschrank',139,'C');\r\n",
                "\r\n",
                "-- mehrere Bestellungen mit einem Statement erfassen\r\n",
                "INSERT INTO verkauf.bestellungen (bestelldatum, kundenid) VALUES \r\n",
                "('2023.09.10 11:20:07', 1),\r\n",
                "('2023.11.05 17:43:13', 2),\r\n",
                "('2023.12.27 09:32:55', 4);"
            ],
            "metadata": {
                "language": "sql",
                "azdata_cell_guid": "572291c1-af7b-4af1-a201-bb9afeae6602"
            },
            "outputs": [
                {
                    "output_type": "display_data",
                    "data": {
                        "text/html": "(2 rows affected)"
                    },
                    "metadata": {}
                },
                {
                    "output_type": "display_data",
                    "data": {
                        "text/html": "(4 rows affected)"
                    },
                    "metadata": {}
                },
                {
                    "output_type": "error",
                    "evalue": "Msg 547, Level 16, State 0, Line 13\r\nThe INSERT statement conflicted with the FOREIGN KEY constraint \"fk_bestellungen_kunden\". The conflict occurred in database \"m106\", table \"verkauf.kunden\", column 'kundenid'.",
                    "ename": "",
                    "traceback": []
                },
                {
                    "output_type": "display_data",
                    "data": {
                        "text/html": "The statement has been terminated."
                    },
                    "metadata": {}
                },
                {
                    "output_type": "display_data",
                    "data": {
                        "text/html": "Total execution time: 00:00:00.023"
                    },
                    "metadata": {}
                }
            ],
            "execution_count": 22
        },
        {
            "cell_type": "code",
            "source": [
                "-- Vorname und Nachname eines Kunden ändern\r\n",
                "UPDATE verkauf.kunden\r\n",
                "SET vorname = 'Pete', nachname = 'Muller'\r\n",
                "WHERE kundenid = 2;\r\n",
                "\r\n",
                "-- Nachname eines Kunden ändern\r\n",
                "UPDATE verkauf.kunden \r\n",
                "SET nachname = 'Meyer' \r\n",
                "WHERE nachname = 'Meier';"
            ],
            "metadata": {
                "language": "sql",
                "azdata_cell_guid": "d2b05a03-f64e-4181-a378-3f5e59932262"
            },
            "outputs": [
                {
                    "output_type": "display_data",
                    "data": {
                        "text/html": "(0 rows affected)"
                    },
                    "metadata": {}
                },
                {
                    "output_type": "display_data",
                    "data": {
                        "text/html": "(1 row affected)"
                    },
                    "metadata": {}
                },
                {
                    "output_type": "display_data",
                    "data": {
                        "text/html": "Total execution time: 00:00:00.017"
                    },
                    "metadata": {}
                }
            ],
            "execution_count": 23
        },
        {
            "cell_type": "code",
            "source": [
                "-- Kunde mit der kundenid 3 löschen\r\n",
                "DELETE FROM verkauf.produkte WHERE produktid = 3;"
            ],
            "metadata": {
                "language": "sql",
                "azdata_cell_guid": "f80ed0af-8faf-4980-974d-37a5ac38743f"
            },
            "outputs": [
                {
                    "output_type": "display_data",
                    "data": {
                        "text/html": "(0 rows affected)"
                    },
                    "metadata": {}
                },
                {
                    "output_type": "display_data",
                    "data": {
                        "text/html": "Total execution time: 00:00:00.075"
                    },
                    "metadata": {}
                }
            ],
            "execution_count": 24
        },
        {
            "cell_type": "code",
            "source": [
                "/*\r\n",
                "Damit die Update-Weitergabe aktiviert werden kann, muss zunächst der\r\n",
                "bestehende Fremdschlüssel entfernt werden\r\n",
                "*/\r\n",
                "ALTER TABLE verkauf.bestellungen DROP CONSTRAINT fk_bestellungen_kunden;"
            ],
            "metadata": {
                "language": "sql",
                "azdata_cell_guid": "f7ce5810-9104-4144-9b09-45dbea0cb369"
            },
            "outputs": [
                {
                    "output_type": "display_data",
                    "data": {
                        "text/html": "Commands completed successfully."
                    },
                    "metadata": {}
                },
                {
                    "output_type": "display_data",
                    "data": {
                        "text/html": "Total execution time: 00:00:00.016"
                    },
                    "metadata": {}
                }
            ],
            "execution_count": 25
        },
        {
            "cell_type": "code",
            "source": [
                "-- Updates auf der Primärschlüssel-Spalte automatisch weitergeben\r\n",
                "ALTER TABLE verkauf.bestellungen  \r\n",
                "ADD CONSTRAINT fk_bestellungen_kunden FOREIGN KEY (kundenid) \r\n",
                "REFERENCES verkauf.kunden(kundenid) ON UPDATE CASCADE;"
            ],
            "metadata": {
                "language": "sql",
                "azdata_cell_guid": "46d004ac-28b8-4e99-903c-ee9445657c4c"
            },
            "outputs": [
                {
                    "output_type": "display_data",
                    "data": {
                        "text/html": "Commands completed successfully."
                    },
                    "metadata": {}
                },
                {
                    "output_type": "display_data",
                    "data": {
                        "text/html": "Total execution time: 00:00:00.054"
                    },
                    "metadata": {}
                }
            ],
            "execution_count": 26
        },
        {
            "cell_type": "code",
            "source": [
                "ALTER TABLE verkauf.bestellungen  \r\n",
                "ADD CONSTRAINT fk_bestellungen_kunden FOREIGN KEY (kundenid) \r\n",
                "REFERENCES verkauf.kunden(kundenid) ON UPDATE CASCADE ON DELETE CASCADE;"
            ],
            "metadata": {
                "language": "sql",
                "azdata_cell_guid": "231fa793-bb17-4a9d-a8ad-e94b7889465b"
            },
            "outputs": [
                {
                    "output_type": "error",
                    "evalue": "Msg 2714, Level 16, State 5, Line 1\r\nThere is already an object named 'fk_bestellungen_kunden' in the database.",
                    "ename": "",
                    "traceback": []
                },
                {
                    "output_type": "error",
                    "evalue": "Msg 1750, Level 16, State 1, Line 1\r\nCould not create constraint or index. See previous errors.",
                    "ename": "",
                    "traceback": []
                },
                {
                    "output_type": "display_data",
                    "data": {
                        "text/html": "Total execution time: 00:00:00.007"
                    },
                    "metadata": {}
                }
            ],
            "execution_count": 27
        },
        {
            "cell_type": "code",
            "source": [
                "-- Kunde mit der kundenid 2 löschen\r\n",
                "DELETE FROM verkauf.kunden WHERE kundenid = 2;"
            ],
            "metadata": {
                "language": "sql",
                "azdata_cell_guid": "3e683184-c841-4809-8c09-cd975b5049a5"
            },
            "outputs": [
                {
                    "output_type": "display_data",
                    "data": {
                        "text/html": "(0 rows affected)"
                    },
                    "metadata": {}
                },
                {
                    "output_type": "display_data",
                    "data": {
                        "text/html": "Total execution time: 00:00:00.215"
                    },
                    "metadata": {}
                }
            ],
            "execution_count": 28
        },
        {
            "cell_type": "code",
            "source": [
                "ALTER TABLE verkauf.bestellungen DROP CONSTRAINT fk_bestellungen_kunden;"
            ],
            "metadata": {
                "language": "sql",
                "azdata_cell_guid": "bacaa220-f96a-49b4-84bb-79936af9a969"
            },
            "outputs": [
                {
                    "output_type": "display_data",
                    "data": {
                        "text/html": "Commands completed successfully."
                    },
                    "metadata": {}
                },
                {
                    "output_type": "display_data",
                    "data": {
                        "text/html": "Total execution time: 00:00:00.009"
                    },
                    "metadata": {}
                }
            ],
            "execution_count": 29
        },
        {
            "cell_type": "code",
            "source": [
                "ALTER TABLE verkauf.bestellungen  \r\n",
                "ADD CONSTRAINT fk_bestellungen_kunden FOREIGN KEY (kundenid) \r\n",
                "REFERENCES verkauf.kunden(kundenid) ON UPDATE CASCADE ON DELETE CASCADE;"
            ],
            "metadata": {
                "language": "sql",
                "azdata_cell_guid": "47ffb30f-c150-42ca-86b6-153932ae380e"
            },
            "outputs": [
{
    "output_type": "display_data",
    "data": {
        "text/html": "Commands completed successfully."
    },
    "metadata": {}
}, {
    "output_type": "display_data",
    "data": {
        "text/html": "Total execution time: 00:00:00.019"
    },
    "metadata": {}
}
],
            "execution_count": 30
        }
    ]
}