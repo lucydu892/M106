{
    "metadata": {
        "kernelspec": {
            "name": "SQL",
            "display_name": "SQL",
            "language": "sql"
        },
        "language_info": {
            "name": "sql",
            "version": ""
        }
    },
    "nbformat_minor": 2,
    "nbformat": 4,
    "cells": [
        {
            "cell_type": "markdown",
            "source": [
                "# Datenbankschema (DDL)"
            ],
            "metadata": {
                "azdata_cell_guid": "62d2aed8-460f-4380-8ce0-3955cde1b910"
            },
            "attachments": {}
        },
        {
            "cell_type": "code",
            "source": [
                "USE master;\r\n",
                "CREATE DATABASE m106\r\n",
                "GO"
            ],
            "metadata": {
                "azdata_cell_guid": "95b74a30-ccec-4398-a203-7ceda9c453b8",
                "language": "sql",
                "tags": []
            },
            "outputs": [
                {
                    "output_type": "error",
                    "ename": "",
                    "evalue": "Msg 1801, Level 16, State 3, Line 2\r\nDatabase 'm106' already exists. Choose a different database name.",
                    "traceback": []
                },
                {
                    "output_type": "display_data",
                    "data": {
                        "text/html": "Total execution time: 00:00:00.001"
                    },
                    "metadata": {}
                }
            ],
            "execution_count": 2
        },
        {
            "cell_type": "code",
            "source": [
                "USE m106;\r\n",
                "GO\r\n",
                "CREATE SCHEMA verkauf;\r\n",
                "GO"
            ],
            "metadata": {
                "azdata_cell_guid": "21e96d27-38eb-4774-82f5-c7219be5e14a",
                "language": "sql",
                "tags": []
            },
            "outputs": [
                {
                    "output_type": "display_data",
                    "data": {
                        "text/html": "Commands completed successfully."
                    },
                    "metadata": {}
                },
                {
                    "output_type": "error",
                    "ename": "",
                    "evalue": "Msg 2714, Level 16, State 6, Line 3\r\nThere is already an object named 'verkauf' in the database.",
                    "traceback": []
                },
                {
                    "output_type": "error",
                    "ename": "",
                    "evalue": "Msg 2759, Level 16, State 0, Line 3\r\nCREATE SCHEMA failed due to previous errors.",
                    "traceback": []
                },
                {
                    "output_type": "display_data",
                    "data": {
                        "text/html": "Total execution time: 00:00:00.003"
                    },
                    "metadata": {}
                }
            ],
            "execution_count": 3
        },
        {
            "cell_type": "code",
            "source": [
                "-- Tabelle kunden im Schema verkauf erstellen\r\n",
                "CREATE TABLE verkauf.kunden (\r\n",
                "    kundenid INT IDENTITY(1,1),\r\n",
                "    vorname VARCHAR(30),\r\n",
                "    nachname VARCHAR(30)\r\n",
                ");\r\n",
                "-- Lege zum Vergleich dieselbe Tabelle im Standardschema an\r\n",
                "\r\n",
                "-- Tabelle bestellungen im Schema verkauf erstellen\r\n",
                "CREATE TABLE verkauf.bestellungen (\r\n",
                "    bestellid INT IDENTITY(1,1),\r\n",
                "    bestelldatum DATE,\r\n",
                "    kundenid INT\r\n",
                ");"
            ],
            "metadata": {
                "azdata_cell_guid": "d290d474-8d33-4ee2-b2fe-68aa6049c1ca",
                "language": "sql",
                "tags": []
            },
            "outputs": [
                {
                    "output_type": "display_data",
                    "data": {
                        "text/html": "Commands completed successfully."
                    },
                    "metadata": {}
                },
                {
                    "output_type": "display_data",
                    "data": {
                        "text/html": "Total execution time: 00:00:00.019"
                    },
                    "metadata": {}
                }
            ],
            "execution_count": 4
        },
        {
            "cell_type": "code",
            "source": [
                "-- Aufruf der gespeicherten Prozedur sp_columns\r\n",
                "EXEC sp_columns @table_name = N'kunden',  @table_owner = N'verkauf'; "
            ],
            "metadata": {
                "azdata_cell_guid": "955fcd73-6da2-4ff4-855b-6213db2f79e8",
                "language": "sql",
                "tags": []
            },
            "outputs": [
                {
                    "output_type": "display_data",
                    "data": {
                        "text/html": "(0 rows affected)"
                    },
                    "metadata": {}
                },
                {
                    "output_type": "display_data",
                    "data": {
                        "text/html": "Total execution time: 00:00:00.365"
                    },
                    "metadata": {}
                },
                {
                    "output_type": "execute_result",
                    "execution_count": 1,
                    "data": {
                        "application/vnd.dataresource+json": {
                            "schema": {
                                "fields": [
                                    {
                                        "name": "TABLE_QUALIFIER"
                                    },
                                    {
                                        "name": "TABLE_OWNER"
                                    },
                                    {
                                        "name": "TABLE_NAME"
                                    },
                                    {
                                        "name": "COLUMN_NAME"
                                    },
                                    {
                                        "name": "DATA_TYPE"
                                    },
                                    {
                                        "name": "TYPE_NAME"
                                    },
                                    {
                                        "name": "PRECISION"
                                    },
                                    {
                                        "name": "LENGTH"
                                    },
                                    {
                                        "name": "SCALE"
                                    },
                                    {
                                        "name": "RADIX"
                                    },
                                    {
                                        "name": "NULLABLE"
                                    },
                                    {
                                        "name": "REMARKS"
                                    },
                                    {
                                        "name": "COLUMN_DEF"
                                    },
                                    {
                                        "name": "SQL_DATA_TYPE"
                                    },
                                    {
                                        "name": "SQL_DATETIME_SUB"
                                    },
                                    {
                                        "name": "CHAR_OCTET_LENGTH"
                                    },
                                    {
                                        "name": "ORDINAL_POSITION"
                                    },
                                    {
                                        "name": "IS_NULLABLE"
                                    },
                                    {
                                        "name": "SS_DATA_TYPE"
                                    }
                                ]
                            },
                            "data": []
                        },
                        "text/html": "<table><tr><th>TABLE_QUALIFIER</th><th>TABLE_OWNER</th><th>TABLE_NAME</th><th>COLUMN_NAME</th><th>DATA_TYPE</th><th>TYPE_NAME</th><th>PRECISION</th><th>LENGTH</th><th>SCALE</th><th>RADIX</th><th>NULLABLE</th><th>REMARKS</th><th>COLUMN_DEF</th><th>SQL_DATA_TYPE</th><th>SQL_DATETIME_SUB</th><th>CHAR_OCTET_LENGTH</th><th>ORDINAL_POSITION</th><th>IS_NULLABLE</th><th>SS_DATA_TYPE</th></tr></table>"
                    },
                    "metadata": {}
                }
            ],
            "execution_count": 1
        },
        {
            "cell_type": "code",
            "source": [
                "-- neue Spalte bestellwert hinzufügen\r\n",
                "USE m106\r\n",
                "ALTER TABLE verkauf.bestellungen ADD bestellwert DECIMAL(10,2);"
            ],
            "metadata": {
                "language": "sql",
                "azdata_cell_guid": "bb2b5fcd-77f8-4bde-b979-b1fb42b1087d",
                "tags": []
            },
            "outputs": [
                {
                    "output_type": "display_data",
                    "data": {
                        "text/html": "Commands completed successfully."
                    },
                    "metadata": {}
                },
                {
                    "output_type": "display_data",
                    "data": {
                        "text/html": "Total execution time: 00:00:00.008"
                    },
                    "metadata": {}
                }
            ],
            "execution_count": 3
        },
        {
            "cell_type": "code",
            "source": [
                "EXEC sp_rename 'verkauf.bestellungen.bestellwert', 'bestellbetrag', 'COLUMN';"
            ],
            "metadata": {
                "language": "sql",
                "azdata_cell_guid": "8e5493e7-e287-442d-865e-02e16be47938",
                "tags": []
            },
            "outputs": [
                {
                    "output_type": "display_data",
                    "data": {
                        "text/html": "Caution: Changing any part of an object name could break scripts and stored procedures."
                    },
                    "metadata": {}
                },
                {
                    "output_type": "display_data",
                    "data": {
                        "text/html": "Total execution time: 00:00:00.520"
                    },
                    "metadata": {}
                }
            ],
            "execution_count": 4
        },
        {
            "cell_type": "code",
            "source": [
                "-- Länge der Spalte vornamen auf 50 ändern\r\n",
                "ALTER TABLE verkauf.kunden ALTER COLUMN vorname VARCHAR(50);"
            ],
            "metadata": {
                "azdata_cell_guid": "fb93f4f6-3e99-4ed4-9d3f-bf1fd68a0d8b",
                "language": "sql"
            },
            "outputs": [
                {
                    "output_type": "display_data",
                    "data": {
                        "text/html": "Commands completed successfully."
                    },
                    "metadata": {}
                },
                {
                    "output_type": "display_data",
                    "data": {
                        "text/html": "Total execution time: 00:00:00.006"
                    },
                    "metadata": {}
                }
            ],
            "execution_count": 5
        },
        {
            "cell_type": "code",
            "source": [
                "-- Datentyp der Spalte bestelldatum zu DATETIME ändern\r\n",
                "ALTER TABLE verkauf.bestellungen ALTER COLUMN bestelldatum DATETIME;"
            ],
            "metadata": {
                "azdata_cell_guid": "7004edc7-55ea-4045-9d2d-e82e7dde9c88",
                "language": "sql"
            },
            "outputs": [
                {
                    "output_type": "display_data",
                    "data": {
                        "text/html": "Commands completed successfully."
                    },
                    "metadata": {}
                },
                {
                    "output_type": "display_data",
                    "data": {
                        "text/html": "Total execution time: 00:00:00.009"
                    },
                    "metadata": {}
                }
            ],
            "execution_count": 6
        },
        {
            "cell_type": "code",
            "source": [
                "-- Spalte bestellbetrag aus der Tabelle löschen\r\n",
                "ALTER TABLE verkauf.bestellungen DROP column bestellbetrag;"
            ],
            "metadata": {
                "language": "sql",
                "azdata_cell_guid": "f80dbc29-c3a4-4aa9-93c8-a672560bc787"
            },
            "outputs": [
                {
                    "output_type": "display_data",
                    "data": {
                        "text/html": "Commands completed successfully."
                    },
                    "metadata": {}
                },
                {
                    "output_type": "display_data",
                    "data": {
                        "text/html": "Total execution time: 00:00:00.009"
                    },
                    "metadata": {}
                }
            ],
            "execution_count": 7
        },
        {
            "cell_type": "code",
            "source": [
                "-- Tabelle bestellungen im Schema verkauf löschen\r\n",
                "DROP TABLE verkauf.bestellungen;"
            ],
            "metadata": {
                "language": "sql",
                "azdata_cell_guid": "6cdb6c16-a3d1-492b-bf3d-071e948ebf44"
            },
            "outputs": [
                {
                    "output_type": "display_data",
                    "data": {
                        "text/html": "Commands completed successfully."
                    },
                    "metadata": {}
                },
                {
                    "output_type": "display_data",
                    "data": {
                        "text/html": "Total execution time: 00:00:00.018"
                    },
                    "metadata": {}
                }
            ],
            "execution_count": 8
        },
        {
            "cell_type": "code",
            "source": [
                "CREATE TABLE verkauf.bestellungen(\r\n",
                "    bestellid INT IDENTITY(1,1),\r\n",
                "    bestelldatum DATETIME,\r\n",
                "    kundenid INT\r\n",
                ");"
            ],
            "metadata": {
                "language": "sql",
                "azdata_cell_guid": "81479c8c-47d1-42e7-9bb3-f496c885d0cf",
                "tags": [
                    "hide_input"
                ]
            },
            "outputs": [
                {
                    "output_type": "display_data",
                    "data": {
                        "text/html": "Commands completed successfully."
                    },
                    "metadata": {}
                },
                {
                    "output_type": "display_data",
                    "data": {
                        "text/html": "Total execution time: 00:00:00.008"
                    },
                    "metadata": {}
                }
            ],
            "execution_count": 9
        },
        {
            "cell_type": "code",
            "source": [
                "-- Gesamten Inhalt der Tabelle bestellungen löschen\r\n",
                "TRUNCATE TABLE verkauf.bestellungen;"
            ],
            "metadata": {
                "language": "sql",
                "azdata_cell_guid": "18ffc53f-747b-4610-87a8-caa9f34dd622"
            },
            "outputs": [
                {
                    "output_type": "display_data",
                    "data": {
                        "text/html": "Commands completed successfully."
                    },
                    "metadata": {}
                },
                {
                    "output_type": "display_data",
                    "data": {
                        "text/html": "Total execution time: 00:00:00.002"
                    },
                    "metadata": {}
                }
            ],
            "execution_count": 10
        },
        {
            "cell_type": "code",
            "source": [
                "-- Primärschlüssel beim Erstellen der neuen Tabelle produkte definieren\r\n",
                "CREATE TABLE verkauf.produkte (\r\n",
                "    produktid INT IDENTITY(1,1) PRIMARY KEY,\r\n",
                "    produktname VARCHAR(100),\r\n",
                "    preis MONEY,\r\n",
                "    energielabel CHAR(1)\r\n",
                ");"
            ],
            "metadata": {
                "azdata_cell_guid": "4ebc144e-8adb-4908-a3b5-a5eb45faefd7",
                "language": "sql"
            },
            "outputs": [
                {
                    "output_type": "display_data",
                    "data": {
                        "text/html": "Commands completed successfully."
                    },
                    "metadata": {}
                },
                {
                    "output_type": "display_data",
                    "data": {
                        "text/html": "Total execution time: 00:00:00.010"
                    },
                    "metadata": {}
                }
            ],
            "execution_count": 11
        },
        {
            "cell_type": "code",
            "source": [
                "-- Primärschlüssel auf der Tabelle kunden nachträglich definieren\r\n",
                "ALTER TABLE verkauf.kunden ADD PRIMARY KEY (kundenid);\r\n",
                "\r\n",
                "-- Primärschlüssel auf der Tabelle bestellungen nachträglich definieren\r\n",
                "ALTER TABLE verkauf.bestellungen ADD PRIMARY KEY (bestellid);"
            ],
            "metadata": {
                "language": "sql",
                "azdata_cell_guid": "14ad4810-27fd-40cc-9456-d423176fe465"
            },
            "outputs": [
                {
                    "output_type": "display_data",
                    "data": {
                        "text/html": "Commands completed successfully."
                    },
                    "metadata": {}
                },
                {
                    "output_type": "display_data",
                    "data": {
                        "text/html": "Total execution time: 00:00:00.011"
                    },
                    "metadata": {}
                }
            ],
            "execution_count": 12
        },
        {
            "cell_type": "code",
            "source": [
                "/*\r\n",
                "Fremdschlüssel auf der Tabelle bestellungen definieren, welcher auf die Primär-\r\n",
                "schlüsselspalte der Tabelle kunden verweist\r\n",
                "*/\r\n",
                "ALTER TABLE verkauf.bestellungen  \r\n",
                "ADD CONSTRAINT fk_bestellungen_kunden FOREIGN KEY (kundenid) \r\n",
                "REFERENCES verkauf.kunden(kundenid);\r\n",
                "\r\n",
                "/* \r\n",
                "Identisches Beispiel mit dem Unterschied, dass der Constraint nicht explizit \r\n",
                "benannt wird\r\n",
                "\r\n",
                "ALTER TABLE verkauf.bestellungen  \r\n",
                "ADD FOREIGN KEY (kundenid) REFERENCES verkauf.kunden(kundenid);\r\n",
                "*/"
            ],
            "metadata": {
                "language": "sql",
                "azdata_cell_guid": "30b03419-eb92-4968-a9ff-8f47ee4063e3"
            },
            "outputs": [
                {
                    "output_type": "display_data",
                    "data": {
                        "text/html": "Commands completed successfully."
                    },
                    "metadata": {}
                },
                {
                    "output_type": "display_data",
                    "data": {
                        "text/html": "Total execution time: 00:00:00.006"
                    },
                    "metadata": {}
                }
            ],
            "execution_count": 13
        },
        {
            "cell_type": "code",
            "source": [
                "-- keine leeren Werte in der Spalte nachname zulassen\r\n",
                "ALTER TABLE verkauf.kunden ALTER COLUMN nachname VARCHAR(30) NOT NULL;"
            ],
            "metadata": {
                "language": "sql",
                "azdata_cell_guid": "fc1ca5ca-f1fe-40a2-a0d1-6e8d637a4cc7"
            },
            "outputs": [
                {
                    "output_type": "display_data",
                    "data": {
                        "text/html": "Commands completed successfully."
                    },
                    "metadata": {}
                },
                {
                    "output_type": "display_data",
                    "data": {
                        "text/html": "Total execution time: 00:00:00.006"
                    },
                    "metadata": {}
                }
            ],
            "execution_count": 14
        },
        {
            "cell_type": "code",
            "source": [
                "-- Standartwert in der Spalte vorname setzen\r\n",
                "ALTER TABLE verkauf.kunden ADD DEFAULT 'unbekannt' FOR vorname;"
            ],
            "metadata": {
                "language": "sql",
                "azdata_cell_guid": "5d3c9ee0-4ffe-49e6-b6d5-04f418a1c606"
            },
            "outputs": [
                {
                    "output_type": "display_data",
                    "data": {
                        "text/html": "Commands completed successfully."
                    },
                    "metadata": {}
                },
                {
                    "output_type": "display_data",
                    "data": {
                        "text/html": "Total execution time: 00:00:00.010"
                    },
                    "metadata": {}
                }
            ],
            "execution_count": 15
        },
        {
            "cell_type": "code",
            "source": [
                "/* \r\n",
                "Regel hinzufügen, dass in der Spalte bestelldatum nur Datumswerte eingefügt werden\r\n",
                "dürfen, welche nicht älter als 01.01.2020 sind\r\n",
                "*/\r\n",
                "ALTER TABLE verkauf.bestellungen ADD CHECK (bestelldatum > '2019-12-31');\r\n",
                "\r\n",
                "-- Regel definieren, dass in der Spalte energielabel nur bestimmte Werte erlaubt sind\r\n",
                "ALTER TABLE verkauf.produkte ADD CHECK (energielabel IN ('A','B','C','D','E'));"
            ],
            "metadata": {
                "language": "sql",
                "azdata_cell_guid": "c99f86c5-8470-4915-a8f8-29b2937cd2f3"
            },
            "outputs": [
                {
                    "output_type": "display_data",
                    "data": {
                        "text/html": "Commands completed successfully."
                    },
                    "metadata": {}
                },
                {
                    "output_type": "display_data",
                    "data": {
                        "text/html": "Total execution time: 00:00:00.012"
                    },
                    "metadata": {}
                }
            ],
            "execution_count": 16
        },
        {
            "cell_type": "code",
            "source": [
                "USE master;\r\n",
                "GO\r\n",
                "\r\n",
                "ALTER DATABASE m106 SET SINGLE_USER WITH ROLLBACK IMMEDIATE;\r\n",
                "GO\r\n",
                "DROP DATABASE m106;\r\n",
                "GO"
            ],
            "metadata": {
                "azdata_cell_guid": "e012a946-6d24-4bb5-904c-034303fe71a3",
                "language": "sql"
            },
            "outputs": [],
            "execution_count": null
        }
    ]
}