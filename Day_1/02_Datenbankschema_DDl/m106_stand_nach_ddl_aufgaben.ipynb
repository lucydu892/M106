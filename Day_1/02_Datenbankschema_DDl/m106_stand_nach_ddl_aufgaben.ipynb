{
    "metadata": {
        "kernelspec": {
            "name": "SQL",
            "display_name": "SQL",
            "language": "sql"
        },
        "language_info": {
            "name": "sql",
            "version": ""
        }
    },
    "nbformat_minor": 2,
    "nbformat": 4,
    "cells": [
        {
            "cell_type": "code",
            "source": [
                "USE [master]\r\n",
                "GO\r\n",
                "\r\n",
                "USE master;\r\n",
                "CREATE DATABASE m106;\r\n",
                "GO\r\n",
                "\r\n",
                "GO\r\n",
                "ALTER DATABASE [m106] SET COMPATIBILITY_LEVEL = 160\r\n",
                "GO\r\n",
                "IF (1 = FULLTEXTSERVICEPROPERTY('IsFullTextInstalled'))\r\n",
                "begin\r\n",
                "EXEC [m106].[dbo].[sp_fulltext_database] @action = 'enable'\r\n",
                "end\r\n",
                "GO\r\n",
                "ALTER DATABASE [m106] SET ANSI_NULL_DEFAULT OFF \r\n",
                "GO\r\n",
                "ALTER DATABASE [m106] SET ANSI_NULLS OFF \r\n",
                "GO\r\n",
                "ALTER DATABASE [m106] SET ANSI_PADDING OFF \r\n",
                "GO\r\n",
                "ALTER DATABASE [m106] SET ANSI_WARNINGS OFF \r\n",
                "GO\r\n",
                "ALTER DATABASE [m106] SET ARITHABORT OFF \r\n",
                "GO\r\n",
                "ALTER DATABASE [m106] SET AUTO_CLOSE ON \r\n",
                "GO\r\n",
                "ALTER DATABASE [m106] SET AUTO_SHRINK OFF \r\n",
                "GO\r\n",
                "ALTER DATABASE [m106] SET AUTO_UPDATE_STATISTICS ON \r\n",
                "GO\r\n",
                "ALTER DATABASE [m106] SET CURSOR_CLOSE_ON_COMMIT OFF \r\n",
                "GO\r\n",
                "ALTER DATABASE [m106] SET CURSOR_DEFAULT  GLOBAL \r\n",
                "GO\r\n",
                "ALTER DATABASE [m106] SET CONCAT_NULL_YIELDS_NULL OFF \r\n",
                "GO\r\n",
                "ALTER DATABASE [m106] SET NUMERIC_ROUNDABORT OFF \r\n",
                "GO\r\n",
                "ALTER DATABASE [m106] SET QUOTED_IDENTIFIER OFF \r\n",
                "GO\r\n",
                "ALTER DATABASE [m106] SET RECURSIVE_TRIGGERS OFF \r\n",
                "GO\r\n",
                "ALTER DATABASE [m106] SET  ENABLE_BROKER \r\n",
                "GO\r\n",
                "ALTER DATABASE [m106] SET AUTO_UPDATE_STATISTICS_ASYNC OFF \r\n",
                "GO\r\n",
                "ALTER DATABASE [m106] SET DATE_CORRELATION_OPTIMIZATION OFF \r\n",
                "GO\r\n",
                "ALTER DATABASE [m106] SET TRUSTWORTHY OFF \r\n",
                "GO\r\n",
                "ALTER DATABASE [m106] SET ALLOW_SNAPSHOT_ISOLATION OFF \r\n",
                "GO\r\n",
                "ALTER DATABASE [m106] SET PARAMETERIZATION SIMPLE \r\n",
                "GO\r\n",
                "ALTER DATABASE [m106] SET READ_COMMITTED_SNAPSHOT OFF \r\n",
                "GO\r\n",
                "ALTER DATABASE [m106] SET HONOR_BROKER_PRIORITY OFF \r\n",
                "GO\r\n",
                "ALTER DATABASE [m106] SET RECOVERY SIMPLE \r\n",
                "GO\r\n",
                "ALTER DATABASE [m106] SET  MULTI_USER \r\n",
                "GO\r\n",
                "ALTER DATABASE [m106] SET PAGE_VERIFY CHECKSUM  \r\n",
                "GO\r\n",
                "ALTER DATABASE [m106] SET DB_CHAINING OFF \r\n",
                "GO\r\n",
                "ALTER DATABASE [m106] SET FILESTREAM( NON_TRANSACTED_ACCESS = OFF ) \r\n",
                "GO\r\n",
                "ALTER DATABASE [m106] SET TARGET_RECOVERY_TIME = 60 SECONDS \r\n",
                "GO\r\n",
                "ALTER DATABASE [m106] SET DELAYED_DURABILITY = DISABLED \r\n",
                "GO\r\n",
                "ALTER DATABASE [m106] SET ACCELERATED_DATABASE_RECOVERY = OFF  \r\n",
                "GO\r\n",
                "ALTER DATABASE [m106] SET QUERY_STORE = ON\r\n",
                "GO\r\n",
                "ALTER DATABASE [m106] SET QUERY_STORE (OPERATION_MODE = READ_WRITE, CLEANUP_POLICY = (STALE_QUERY_THRESHOLD_DAYS = 30), DATA_FLUSH_INTERVAL_SECONDS = 900, INTERVAL_LENGTH_MINUTES = 60, MAX_STORAGE_SIZE_MB = 1000, QUERY_CAPTURE_MODE = AUTO, SIZE_BASED_CLEANUP_MODE = AUTO, MAX_PLANS_PER_QUERY = 200, WAIT_STATS_CAPTURE_MODE = ON)\r\n",
                "GO\r\n",
                "USE [m106]\r\n",
                "GO\r\n",
                "/****** Object:  Schema [intern]    Script Date: 09.01.2025 07:50:44 ******/\r\n",
                "CREATE SCHEMA [intern]\r\n",
                "GO\r\n",
                "/****** Object:  Schema [verkauf]    Script Date: 09.01.2025 07:50:44 ******/\r\n",
                "CREATE SCHEMA [verkauf]\r\n",
                "GO\r\n",
                "/****** Object:  Table [intern].[lohnkonto]    Script Date: 09.01.2025 07:50:44 ******/\r\n",
                "SET ANSI_NULLS ON\r\n",
                "GO\r\n",
                "SET QUOTED_IDENTIFIER ON\r\n",
                "GO\r\n",
                "CREATE TABLE [intern].[lohnkonto](\r\n",
                "\t[kontoid] [int] IDENTITY(1,1) NOT NULL,\r\n",
                "\t[iban] [varchar](50) NOT NULL,\r\n",
                "\t[mitarbeiterid] [int] NOT NULL,\r\n",
                "\t[gueltigab] [date] NOT NULL,\r\n",
                "\t[gueltigbis] [date] NULL,\r\n",
                "PRIMARY KEY CLUSTERED \r\n",
                "(\r\n",
                "\t[kontoid] ASC\r\n",
                ")WITH (PAD_INDEX = OFF, STATISTICS_NORECOMPUTE = OFF, IGNORE_DUP_KEY = OFF, ALLOW_ROW_LOCKS = ON, ALLOW_PAGE_LOCKS = ON, OPTIMIZE_FOR_SEQUENTIAL_KEY = OFF) ON [PRIMARY]\r\n",
                ") ON [PRIMARY]\r\n",
                "GO\r\n",
                "/****** Object:  Table [intern].[mitarbeiter]    Script Date: 09.01.2025 07:50:44 ******/\r\n",
                "SET ANSI_NULLS ON\r\n",
                "GO\r\n",
                "SET QUOTED_IDENTIFIER ON\r\n",
                "GO\r\n",
                "CREATE TABLE [intern].[mitarbeiter](\r\n",
                "\t[mitarbeiterid] [int] IDENTITY(1,1) NOT NULL,\r\n",
                "\t[vorname] [nvarchar](100) NULL,\r\n",
                "\t[nachname] [nvarchar](100) NULL,\r\n",
                "\t[geschlecht] [char](1) NOT NULL,\r\n",
                "\t[geburtsdatum] [date] NOT NULL,\r\n",
                "\t[anstellungsdatum] [date] NOT NULL,\r\n",
                "\t[email] [nvarchar](254) NULL,\r\n",
                "PRIMARY KEY CLUSTERED \r\n",
                "(\r\n",
                "\t[mitarbeiterid] ASC\r\n",
                ")WITH (PAD_INDEX = OFF, STATISTICS_NORECOMPUTE = OFF, IGNORE_DUP_KEY = OFF, ALLOW_ROW_LOCKS = ON, ALLOW_PAGE_LOCKS = ON, OPTIMIZE_FOR_SEQUENTIAL_KEY = OFF) ON [PRIMARY]\r\n",
                ") ON [PRIMARY]\r\n",
                "GO\r\n",
                "/****** Object:  Table [verkauf].[bestellpositionen]    Script Date: 09.01.2025 07:50:44 ******/\r\n",
                "SET ANSI_NULLS ON\r\n",
                "GO\r\n",
                "SET QUOTED_IDENTIFIER ON\r\n",
                "GO\r\n",
                "CREATE TABLE [verkauf].[bestellpositionen](\r\n",
                "\t[id] [int] IDENTITY(1,1) NOT NULL,\r\n",
                "\t[bestellid] [int] NOT NULL,\r\n",
                "\t[produktid] [int] NOT NULL,\r\n",
                "\t[menge] [smallint] NOT NULL,\r\n",
                "PRIMARY KEY CLUSTERED \r\n",
                "(\r\n",
                "\t[id] ASC\r\n",
                ")WITH (PAD_INDEX = OFF, STATISTICS_NORECOMPUTE = OFF, IGNORE_DUP_KEY = OFF, ALLOW_ROW_LOCKS = ON, ALLOW_PAGE_LOCKS = ON, OPTIMIZE_FOR_SEQUENTIAL_KEY = OFF) ON [PRIMARY]\r\n",
                ") ON [PRIMARY]\r\n",
                "GO\r\n",
                "/****** Object:  Table [verkauf].[bestellungen]    Script Date: 09.01.2025 07:50:44 ******/\r\n",
                "SET ANSI_NULLS ON\r\n",
                "GO\r\n",
                "SET QUOTED_IDENTIFIER ON\r\n",
                "GO\r\n",
                "CREATE TABLE [verkauf].[bestellungen](\r\n",
                "\t[bestellid] [int] IDENTITY(1,1) NOT NULL,\r\n",
                "\t[bestelldatum] [datetime] NULL,\r\n",
                "\t[kundenid] [int] NULL,\r\n",
                "PRIMARY KEY CLUSTERED \r\n",
                "(\r\n",
                "\t[bestellid] ASC\r\n",
                ")WITH (PAD_INDEX = OFF, STATISTICS_NORECOMPUTE = OFF, IGNORE_DUP_KEY = OFF, ALLOW_ROW_LOCKS = ON, ALLOW_PAGE_LOCKS = ON, OPTIMIZE_FOR_SEQUENTIAL_KEY = OFF) ON [PRIMARY]\r\n",
                ") ON [PRIMARY]\r\n",
                "GO\r\n",
                "/****** Object:  Table [verkauf].[kunden]    Script Date: 09.01.2025 07:50:44 ******/\r\n",
                "SET ANSI_NULLS ON\r\n",
                "GO\r\n",
                "SET QUOTED_IDENTIFIER ON\r\n",
                "GO\r\n",
                "CREATE TABLE [verkauf].[kunden](\r\n",
                "\t[kundenid] [int] IDENTITY(1,1) NOT NULL,\r\n",
                "\t[vorname] [varchar](50) NULL,\r\n",
                "\t[nachname] [varchar](30) NOT NULL,\r\n",
                "PRIMARY KEY CLUSTERED \r\n",
                "(\r\n",
                "\t[kundenid] ASC\r\n",
                ")WITH (PAD_INDEX = OFF, STATISTICS_NORECOMPUTE = OFF, IGNORE_DUP_KEY = OFF, ALLOW_ROW_LOCKS = ON, ALLOW_PAGE_LOCKS = ON, OPTIMIZE_FOR_SEQUENTIAL_KEY = OFF) ON [PRIMARY]\r\n",
                ") ON [PRIMARY]\r\n",
                "GO\r\n",
                "/****** Object:  Table [verkauf].[produkte]    Script Date: 09.01.2025 07:50:44 ******/\r\n",
                "SET ANSI_NULLS ON\r\n",
                "GO\r\n",
                "SET QUOTED_IDENTIFIER ON\r\n",
                "GO\r\n",
                "CREATE TABLE [verkauf].[produkte](\r\n",
                "\t[produktid] [int] IDENTITY(1,1) NOT NULL,\r\n",
                "\t[produktname] [varchar](100) NULL,\r\n",
                "\t[preis] [money] NULL,\r\n",
                "\t[energielabel] [char](1) NULL,\r\n",
                "PRIMARY KEY CLUSTERED \r\n",
                "(\r\n",
                "\t[produktid] ASC\r\n",
                ")WITH (PAD_INDEX = OFF, STATISTICS_NORECOMPUTE = OFF, IGNORE_DUP_KEY = OFF, ALLOW_ROW_LOCKS = ON, ALLOW_PAGE_LOCKS = ON, OPTIMIZE_FOR_SEQUENTIAL_KEY = OFF) ON [PRIMARY]\r\n",
                ") ON [PRIMARY]\r\n",
                "GO\r\n",
                "ALTER TABLE [intern].[lohnkonto] ADD  DEFAULT ('9999-12-31') FOR [gueltigbis]\r\n",
                "GO\r\n",
                "ALTER TABLE [verkauf].[kunden] ADD  DEFAULT ('unbekannt') FOR [vorname]\r\n",
                "GO\r\n",
                "ALTER TABLE [intern].[lohnkonto]  WITH CHECK ADD  CONSTRAINT [fk_lohnkonto_mitarbeiter] FOREIGN KEY([mitarbeiterid])\r\n",
                "REFERENCES [intern].[mitarbeiter] ([mitarbeiterid])\r\n",
                "GO\r\n",
                "ALTER TABLE [intern].[lohnkonto] CHECK CONSTRAINT [fk_lohnkonto_mitarbeiter]\r\n",
                "GO\r\n",
                "ALTER TABLE [verkauf].[bestellpositionen]  WITH CHECK ADD  CONSTRAINT [fk_bestellpos_bestellid] FOREIGN KEY([bestellid])\r\n",
                "REFERENCES [verkauf].[bestellungen] ([bestellid])\r\n",
                "GO\r\n",
                "ALTER TABLE [verkauf].[bestellpositionen] CHECK CONSTRAINT [fk_bestellpos_bestellid]\r\n",
                "GO\r\n",
                "ALTER TABLE [verkauf].[bestellpositionen]  WITH CHECK ADD  CONSTRAINT [fk_bestellpos_produktid] FOREIGN KEY([produktid])\r\n",
                "REFERENCES [verkauf].[produkte] ([produktid])\r\n",
                "GO\r\n",
                "ALTER TABLE [verkauf].[bestellpositionen] CHECK CONSTRAINT [fk_bestellpos_produktid]\r\n",
                "GO\r\n",
                "ALTER TABLE [verkauf].[bestellungen]  WITH CHECK ADD  CONSTRAINT [fk_bestellungen_kunden] FOREIGN KEY([kundenid])\r\n",
                "REFERENCES [verkauf].[kunden] ([kundenid])\r\n",
                "GO\r\n",
                "ALTER TABLE [verkauf].[bestellungen] CHECK CONSTRAINT [fk_bestellungen_kunden]\r\n",
                "GO\r\n",
                "ALTER TABLE [intern].[mitarbeiter]  WITH CHECK ADD CHECK  (([geschlecht]='n' OR [geschlecht]='w' OR [geschlecht]='m'))\r\n",
                "GO\r\n",
                "ALTER TABLE [verkauf].[bestellungen]  WITH CHECK ADD CHECK  (([bestelldatum]>'2019-12-31'))\r\n",
                "GO\r\n",
                "ALTER TABLE [verkauf].[produkte]  WITH CHECK ADD CHECK  (([energielabel]='E' OR [energielabel]='D' OR [energielabel]='C' OR [energielabel]='B' OR [energielabel]='A'))\r\n",
                "GO\r\n",
                "USE [master]\r\n",
                "GO\r\n",
                "ALTER DATABASE [m106] SET  READ_WRITE \r\n",
                "GO"
            ],
            "metadata": {
                "azdata_cell_guid": "592c1a64-dfba-4de0-8236-a322015f1be6",
                "language": "sql"
            },
            "outputs": [
{
    "output_type": "display_data",
    "data": {
        "text/html": "Commands completed successfully."
    },
    "metadata": {}
}, {
    "output_type": "error",
    "evalue": "Msg 1801, Level 16, State 3, Line 5\r\nDatabase 'm106' already exists. Choose a different database name.",
    "ename": "",
    "traceback": []
}, {
    "output_type": "display_data",
    "data": {
        "text/html": "Commands completed successfully."
    },
    "metadata": {}
}, {
    "output_type": "display_data",
    "data": {
        "text/html": "Commands completed successfully."
    },
    "metadata": {}
}, {
    "output_type": "display_data",
    "data": {
        "text/html": "Commands completed successfully."
    },
    "metadata": {}
}, {
    "output_type": "display_data",
    "data": {
        "text/html": "Commands completed successfully."
    },
    "metadata": {}
}, {
    "output_type": "display_data",
    "data": {
        "text/html": "Commands completed successfully."
    },
    "metadata": {}
}, {
    "output_type": "display_data",
    "data": {
        "text/html": "Commands completed successfully."
    },
    "metadata": {}
}, {
    "output_type": "display_data",
    "data": {
        "text/html": "Commands completed successfully."
    },
    "metadata": {}
}, {
    "output_type": "display_data",
    "data": {
        "text/html": "Commands completed successfully."
    },
    "metadata": {}
}, {
    "output_type": "display_data",
    "data": {
        "text/html": "Commands completed successfully."
    },
    "metadata": {}
}, {
    "output_type": "display_data",
    "data": {
        "text/html": "Commands completed successfully."
    },
    "metadata": {}
}, {
    "output_type": "display_data",
    "data": {
        "text/html": "Commands completed successfully."
    },
    "metadata": {}
}, {
    "output_type": "display_data",
    "data": {
        "text/html": "Commands completed successfully."
    },
    "metadata": {}
}, {
    "output_type": "display_data",
    "data": {
        "text/html": "Commands completed successfully."
    },
    "metadata": {}
}, {
    "output_type": "display_data",
    "data": {
        "text/html": "Commands completed successfully."
    },
    "metadata": {}
}, {
    "output_type": "display_data",
    "data": {
        "text/html": "Commands completed successfully."
    },
    "metadata": {}
}, {
    "output_type": "display_data",
    "data": {
        "text/html": "Commands completed successfully."
    },
    "metadata": {}
}, {
    "output_type": "display_data",
    "data": {
        "text/html": "Commands completed successfully."
    },
    "metadata": {}
}, {
    "output_type": "display_data",
    "data": {
        "text/html": "Commands completed successfully."
    },
    "metadata": {}
}, {
    "output_type": "display_data",
    "data": {
        "text/html": "Commands completed successfully."
    },
    "metadata": {}
}, {
    "output_type": "display_data",
    "data": {
        "text/html": "Commands completed successfully."
    },
    "metadata": {}
}, {
    "output_type": "display_data",
    "data": {
        "text/html": "Commands completed successfully."
    },
    "metadata": {}
}, {
    "output_type": "display_data",
    "data": {
        "text/html": "Commands completed successfully."
    },
    "metadata": {}
}, {
    "output_type": "display_data",
    "data": {
        "text/html": "Commands completed successfully."
    },
    "metadata": {}
}, {
    "output_type": "display_data",
    "data": {
        "text/html": "Commands completed successfully."
    },
    "metadata": {}
}, {
    "output_type": "display_data",
    "data": {
        "text/html": "Commands completed successfully."
    },
    "metadata": {}
}, {
    "output_type": "display_data",
    "data": {
        "text/html": "Commands completed successfully."
    },
    "metadata": {}
}, {
    "output_type": "display_data",
    "data": {
        "text/html": "Commands completed successfully."
    },
    "metadata": {}
}, {
    "output_type": "display_data",
    "data": {
        "text/html": "Commands completed successfully."
    },
    "metadata": {}
}, {
    "output_type": "display_data",
    "data": {
        "text/html": "Commands completed successfully."
    },
    "metadata": {}
}, {
    "output_type": "display_data",
    "data": {
        "text/html": "Commands completed successfully."
    },
    "metadata": {}
}, {
    "output_type": "display_data",
    "data": {
        "text/html": "Commands completed successfully."
    },
    "metadata": {}
}, {
    "output_type": "display_data",
    "data": {
        "text/html": "Commands completed successfully."
    },
    "metadata": {}
}, {
    "output_type": "display_data",
    "data": {
        "text/html": "Commands completed successfully."
    },
    "metadata": {}
}, {
    "output_type": "display_data",
    "data": {
        "text/html": "Commands completed successfully."
    },
    "metadata": {}
}, {
    "output_type": "display_data",
    "data": {
        "text/html": "Commands completed successfully."
    },
    "metadata": {}
}, {
    "output_type": "error",
    "evalue": "Msg 2714, Level 16, State 6, Line 83\r\nThere is already an object named 'intern' in the database.",
    "ename": "",
    "traceback": []
}, {
    "output_type": "error",
    "evalue": "Msg 2759, Level 16, State 0, Line 83\r\nCREATE SCHEMA failed due to previous errors.",
    "ename": "",
    "traceback": []
}, {
    "output_type": "error",
    "evalue": "Msg 2714, Level 16, State 6, Line 86\r\nThere is already an object named 'verkauf' in the database.",
    "ename": "",
    "traceback": []
}, {
    "output_type": "error",
    "evalue": "Msg 2759, Level 16, State 0, Line 86\r\nCREATE SCHEMA failed due to previous errors.",
    "ename": "",
    "traceback": []
}, {
    "output_type": "display_data",
    "data": {
        "text/html": "Commands completed successfully."
    },
    "metadata": {}
}, {
    "output_type": "display_data",
    "data": {
        "text/html": "Commands completed successfully."
    },
    "metadata": {}
}, {
    "output_type": "error",
    "evalue": "Msg 2714, Level 16, State 6, Line 93\r\nThere is already an object named 'lohnkonto' in the database.",
    "ename": "",
    "traceback": []
}, {
    "output_type": "display_data",
    "data": {
        "text/html": "Commands completed successfully."
    },
    "metadata": {}
}, {
    "output_type": "display_data",
    "data": {
        "text/html": "Commands completed successfully."
    },
    "metadata": {}
}, {
    "output_type": "error",
    "evalue": "Msg 2714, Level 16, State 6, Line 110\r\nThere is already an object named 'mitarbeiter' in the database.",
    "ename": "",
    "traceback": []
}, {
    "output_type": "display_data",
    "data": {
        "text/html": "Commands completed successfully."
    },
    "metadata": {}
}, {
    "output_type": "display_data",
    "data": {
        "text/html": "Commands completed successfully."
    },
    "metadata": {}
}, {
    "output_type": "error",
    "evalue": "Msg 2714, Level 16, State 6, Line 129\r\nThere is already an object named 'bestellpositionen' in the database.",
    "ename": "",
    "traceback": []
}, {
    "output_type": "display_data",
    "data": {
        "text/html": "Commands completed successfully."
    },
    "metadata": {}
}, {
    "output_type": "display_data",
    "data": {
        "text/html": "Commands completed successfully."
    },
    "metadata": {}
}, {
    "output_type": "error",
    "evalue": "Msg 2714, Level 16, State 6, Line 145\r\nThere is already an object named 'bestellungen' in the database.",
    "ename": "",
    "traceback": []
}, {
    "output_type": "display_data",
    "data": {
        "text/html": "Commands completed successfully."
    },
    "metadata": {}
}, {
    "output_type": "display_data",
    "data": {
        "text/html": "Commands completed successfully."
    },
    "metadata": {}
}, {
    "output_type": "error",
    "evalue": "Msg 2714, Level 16, State 6, Line 160\r\nThere is already an object named 'kunden' in the database.",
    "ename": "",
    "traceback": []
}, {
    "output_type": "display_data",
    "data": {
        "text/html": "Commands completed successfully."
    },
    "metadata": {}
}, {
    "output_type": "display_data",
    "data": {
        "text/html": "Commands completed successfully."
    },
    "metadata": {}
}, {
    "output_type": "error",
    "evalue": "Msg 2714, Level 16, State 6, Line 175\r\nThere is already an object named 'produkte' in the database.",
    "ename": "",
    "traceback": []
}, {
    "output_type": "error",
    "evalue": "Msg 1781, Level 16, State 1, Line 186\r\nColumn already has a DEFAULT bound to it.",
    "ename": "",
    "traceback": []
}, {
    "output_type": "error",
    "evalue": "Msg 1750, Level 16, State 0, Line 186\r\nCould not create constraint or index. See previous errors.",
    "ename": "",
    "traceback": []
}, {
    "output_type": "error",
    "evalue": "Msg 1781, Level 16, State 1, Line 188\r\nColumn already has a DEFAULT bound to it.",
    "ename": "",
    "traceback": []
}, {
    "output_type": "error",
    "evalue": "Msg 1750, Level 16, State 0, Line 188\r\nCould not create constraint or index. See previous errors.",
    "ename": "",
    "traceback": []
}, {
    "output_type": "error",
    "evalue": "Msg 2714, Level 16, State 5, Line 190\r\nThere is already an object named 'fk_lohnkonto_mitarbeiter' in the database.",
    "ename": "",
    "traceback": []
}, {
    "output_type": "error",
    "evalue": "Msg 1750, Level 16, State 1, Line 190\r\nCould not create constraint or index. See previous errors.",
    "ename": "",
    "traceback": []
}, {
    "output_type": "display_data",
    "data": {
        "text/html": "Commands completed successfully."
    },
    "metadata": {}
}, {
    "output_type": "error",
    "evalue": "Msg 2714, Level 16, State 5, Line 195\r\nThere is already an object named 'fk_bestellpos_bestellid' in the database.",
    "ename": "",
    "traceback": []
}, {
    "output_type": "error",
    "evalue": "Msg 1750, Level 16, State 1, Line 195\r\nCould not create constraint or index. See previous errors.",
    "ename": "",
    "traceback": []
}, {
    "output_type": "display_data",
    "data": {
        "text/html": "Commands completed successfully."
    },
    "metadata": {}
}, {
    "output_type": "error",
    "evalue": "Msg 2714, Level 16, State 5, Line 200\r\nThere is already an object named 'fk_bestellpos_produktid' in the database.",
    "ename": "",
    "traceback": []
}, {
    "output_type": "error",
    "evalue": "Msg 1750, Level 16, State 1, Line 200\r\nCould not create constraint or index. See previous errors.",
    "ename": "",
    "traceback": []
}, {
    "output_type": "display_data",
    "data": {
        "text/html": "Commands completed successfully."
    },
    "metadata": {}
}, {
    "output_type": "error",
    "evalue": "Msg 2714, Level 16, State 5, Line 205\r\nThere is already an object named 'fk_bestellungen_kunden' in the database.",
    "ename": "",
    "traceback": []
}, {
    "output_type": "error",
    "evalue": "Msg 1750, Level 16, State 1, Line 205\r\nCould not create constraint or index. See previous errors.",
    "ename": "",
    "traceback": []
}, {
    "output_type": "display_data",
    "data": {
        "text/html": "Commands completed successfully."
    },
    "metadata": {}
}, {
    "output_type": "display_data",
    "data": {
        "text/html": "Commands completed successfully."
    },
    "metadata": {}
}, {
    "output_type": "display_data",
    "data": {
        "text/html": "Commands completed successfully."
    },
    "metadata": {}
}, {
    "output_type": "display_data",
    "data": {
        "text/html": "Commands completed successfully."
    },
    "metadata": {}
}, {
    "output_type": "display_data",
    "data": {
        "text/html": "Commands completed successfully."
    },
    "metadata": {}
}, {
    "output_type": "display_data",
    "data": {
        "text/html": "Commands completed successfully."
    },
    "metadata": {}
}, {
    "output_type": "display_data",
    "data": {
        "text/html": "Total execution time: 00:00:00.599"
    },
    "metadata": {}
}
],
            "execution_count": 1
        }
    ]
}