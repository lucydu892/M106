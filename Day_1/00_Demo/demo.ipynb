{
    "metadata": {
        "kernelspec": {
            "name": "SQL",
            "display_name": "SQL",
            "language": "sql"
        },
        "language_info": {
            "name": "sql",
            "version": ""
        }
    },
    "nbformat_minor": 2,
    "nbformat": 4,
    "cells": [
        {
            "cell_type": "markdown",
            "source": [
                "# Das ist eine Demo\n",
                "\n",
                "## Aufgabe 1"
            ],
            "metadata": {
                "azdata_cell_guid": "73157870-cff9-4c4f-bfb1-dda156c3805f"
            },
            "attachments": {}
        },
        {
            "cell_type": "code",
            "source": [
                "SELECT 'Hello from Notebook';\n",
                ""
            ],
            "metadata": {
                "azdata_cell_guid": "b5933e64-b01b-4614-814b-fe252ff87a1a",
                "language": "sql"
            },
            "outputs": [
{
    "output_type": "display_data",
    "data": {
        "text/html": "(1 row affected)"
    },
    "metadata": {}
}, {
    "output_type": "display_data",
    "data": {
        "text/html": "Total execution time: 00:00:00.036"
    },
    "metadata": {}
}, {
    "output_type": "execute_result",
    "metadata": {},
    "execution_count": 2,
    "data": {
        "application/vnd.dataresource+json": {
            "schema": {
                "fields": [
                    {
                        "name": "(No column name)"
                    }
                ]
            },
            "data": [
                {
                    "(No column name)": "Hello from Notebook"
                }
            ]
        },
        "text/html": [
            "<table>",
            "<tr><th>(No column name)</th></tr>",
            "<tr><td>Hello from Notebook</td></tr>",
            "</table>"
        ]
    }
}
],
            "execution_count": 2
        }
    ]
}