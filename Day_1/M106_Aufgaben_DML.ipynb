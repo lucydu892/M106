{
    "metadata": {
        "kernelspec": {
            "name": "SQL",
            "display_name": "SQL",
            "language": "sql"
        },
        "language_info": {
            "name": "sql",
            "version": ""
        }
    },
    "nbformat_minor": 2,
    "nbformat": 4,
    "cells": [
        {
            "cell_type": "markdown",
            "source": [
                "# Übungsaufgaben DML\n",
                "\n",
                "Der folgende Block enthält Übungsaufgaben zu den Kapiteln INSERT, UPDATE, DELETE und CASCADE."
            ],
            "metadata": {
                "azdata_cell_guid": "08cc9dc5-0641-4d1e-b1e2-a8ecc9035bf9"
            },
            "attachments": {}
        },
        {
            "cell_type": "markdown",
            "source": [
                "## INSERT\n",
                "\n",
                "Führe diese Aufgaben aus, nachdem du den INSERT-Block bearbeitet hast."
            ],
            "metadata": {
                "azdata_cell_guid": "b0183c7a-9550-49ff-bf35-b4737c8b0f2b"
            },
            "attachments": {}
        },
        {
            "cell_type": "markdown",
            "source": [
                "**1.1** Erstelle eine neue Kundin in der Tabelle _verkauf.kunden_ mit folgenden Attributen:\n",
                "\n",
                "- Vorname: Barbara\n",
                "- Nachname: Traufer"
            ],
            "metadata": {
                "azdata_cell_guid": "06971469-2db3-46ec-8015-f549de96feaf"
            },
            "attachments": {}
        },
        {
            "cell_type": "code",
            "source": [
                "USE m106\r\n",
                "INSERT INTO verkauf.kunden  Values ('Barbara', 'Traufer');"
            ],
            "metadata": {
                "azdata_cell_guid": "275d6686-53f4-4b42-a0f7-332964b4a6bf",
                "language": "sql",
                "tags": []
            },
            "outputs": [
                {
                    "output_type": "display_data",
                    "data": {
                        "text/html": "(1 row affected)"
                    },
                    "metadata": {}
                },
                {
                    "output_type": "display_data",
                    "data": {
                        "text/html": "Total execution time: 00:00:00.012"
                    },
                    "metadata": {}
                }
            ],
            "execution_count": 2
        },
        {
            "cell_type": "markdown",
            "source": [
                "**1.2** Füge drei neue Produkte in der dafür vorgesehenen Tabelle hinzu. Den Produktnamen, den Preis sowie das Energielabel kannst du jeweils selber bestimmen."
            ],
            "metadata": {
                "azdata_cell_guid": "20439388-ed53-4ea3-8db3-eb199da5496d"
            },
            "attachments": {}
        },
        {
            "cell_type": "code",
            "source": [
                "INSERT INTO verkauf.produkte VALUES\r\n",
                "('Radio', 50, 'C'),\r\n",
                "('Stuhl', 20, 'A'),\r\n",
                "('Auto',40000,'E');"
            ],
            "metadata": {
                "azdata_cell_guid": "fd6350bf-489b-4828-a2d7-42d50b44adf0",
                "language": "sql"
            },
            "outputs": [
                {
                    "output_type": "display_data",
                    "data": {
                        "text/html": "(3 rows affected)"
                    },
                    "metadata": {}
                },
                {
                    "output_type": "display_data",
                    "data": {
                        "text/html": "Total execution time: 00:00:00.016"
                    },
                    "metadata": {}
                }
            ],
            "execution_count": 3
        },
        {
            "cell_type": "markdown",
            "source": [
                "**1.3** Erstelle zwei neue Einträge in der Tabelle _verkauf.bestellungen_, welche zur oben neu erstellten Kundin gehören. Das Bestelldatum kannst du bei beiden Bestellungen frei wählen."
            ],
            "metadata": {
                "azdata_cell_guid": "85468b54-75e1-4d31-925b-841e1acd8d35"
            },
            "attachments": {}
        },
        {
            "cell_type": "code",
            "source": [
                "USE m106\r\n",
                "GO\r\n",
                "INSERT INTO verkauf.bestellungen (kundenid, bestelldatum)VALUES\r\n",
                "(1, '2007-01-05'),\r\n",
                "(1, '2025-01-05');"
            ],
            "metadata": {
                "azdata_cell_guid": "d991a913-95d4-428e-b5c1-cacbd85b07ba",
                "language": "sql",
                "tags": []
            },
            "outputs": [
                {
                    "output_type": "display_data",
                    "data": {
                        "text/html": "Commands completed successfully."
                    },
                    "metadata": {}
                },
                {
                    "output_type": "error",
                    "evalue": "Msg 547, Level 16, State 0, Line 3\r\nThe INSERT statement conflicted with the CHECK constraint \"CK__bestellun__beste__59FA5E80\". The conflict occurred in database \"m106\", table \"verkauf.bestellungen\", column 'bestelldatum'.",
                    "ename": "",
                    "traceback": []
                },
                {
                    "output_type": "display_data",
                    "data": {
                        "text/html": "The statement has been terminated."
                    },
                    "metadata": {}
                },
                {
                    "output_type": "display_data",
                    "data": {
                        "text/html": "Total execution time: 00:00:00.015"
                    },
                    "metadata": {}
                }
            ],
            "execution_count": 5
        },
        {
            "cell_type": "markdown",
            "source": [
                "## UPDATE\n",
                "\n",
                "Führe diese Aufgaben aus, nachdem du den UPDATE-Block bearbeitet hast."
            ],
            "metadata": {
                "azdata_cell_guid": "ea8ec5c1-83ad-4a18-9af0-bad7bdc1da01"
            },
            "attachments": {}
        },
        {
            "cell_type": "markdown",
            "source": [
                "**2.1** Die Kundin mit der Kundenid 3 wünscht, dass ihr Vorname in den Stammdaten von _unbekannt_ auf _Maria_ geändert wird. Bitte nimm diese Änderung vor."
            ],
            "metadata": {
                "azdata_cell_guid": "3da0c501-4455-4e9a-bfe9-7427927c5cce"
            },
            "attachments": {}
        },
        {
            "cell_type": "code",
            "source": [
                "UPDATE verkauf.kunden\r\n",
                "SET vorname = 'Maria'\r\n",
                "WHERE kundenid=3;"
            ],
            "metadata": {
                "azdata_cell_guid": "41599a42-18b1-4bb3-ae93-2ac78e8ceb09",
                "language": "sql"
            },
            "outputs": [
                {
                    "output_type": "display_data",
                    "data": {
                        "text/html": "(1 row affected)"
                    },
                    "metadata": {}
                },
                {
                    "output_type": "display_data",
                    "data": {
                        "text/html": "Total execution time: 00:00:00.020"
                    },
                    "metadata": {}
                }
            ],
            "execution_count": 6
        },
        {
            "cell_type": "markdown",
            "source": [
                "**2.2** Du erhältst den Auftrag, den Namen des Produktes mit der Id 2 auf _Zitruspresse_ zu ändern und im selben Zug auch gleich den Preis um CHF 10 zu erhöhen."
            ],
            "metadata": {
                "azdata_cell_guid": "e814a423-852b-4887-a40c-9f208828ecba"
            }
        },
        {
            "cell_type": "code",
            "source": [
                "UPDATE verkauf.produkte \r\n",
                "SET produktname = 'Zitruspresse', preis = 10\r\n",
                "WHERE produktid = 2"
            ],
            "metadata": {
                "azdata_cell_guid": "fa09856f-5174-4087-862f-4f03efeaf199",
                "language": "sql"
            },
            "outputs": [
                {
                    "output_type": "display_data",
                    "data": {
                        "text/html": "(1 row affected)"
                    },
                    "metadata": {}
                },
                {
                    "output_type": "display_data",
                    "data": {
                        "text/html": "Total execution time: 00:00:00.159"
                    },
                    "metadata": {}
                }
            ],
            "execution_count": 7
        },
        {
            "cell_type": "markdown",
            "source": [
                "## DELETE\n",
                "\n",
                "Führe diese Aufgaben aus, nachdem du den DELETE-Block bearbeitet hast."
            ],
            "metadata": {
                "azdata_cell_guid": "adef7123-c862-42ec-8ac1-f38f6755646c"
            },
            "attachments": {}
        },
        {
            "cell_type": "markdown",
            "source": [
                "**3.1** Du wirst von deinem Vorgesetzten aufgefordert, alle Bestellungen des Kunden _Bruno Moser_ zu löschen. Nimm bitte diese Mutation vor.\n",
                "**Wichtig**: Sei vorsichtig, dass nicht zu viele Daten gelöscht werden."
            ],
            "metadata": {
                "azdata_cell_guid": "e1ea77fb-6060-429b-97d6-0c22729bf16e"
            },
            "attachments": {}
        },
        {
            "cell_type": "code",
            "source": [
                "DELETE FROM verkauf.kunden WHERE kundenid = 4"
            ],
            "metadata": {
                "azdata_cell_guid": "c245d7d8-a2c2-4364-ae6f-8693b5b933da",
                "language": "sql",
                "tags": []
            },
            "outputs": [
{
    "output_type": "display_data",
    "data": {
        "text/html": "(1 row affected)"
    },
    "metadata": {}
}, {
    "output_type": "display_data",
    "data": {
        "text/html": "Total execution time: 00:00:00.089"
    },
    "metadata": {}
}
],
            "execution_count": 8
        },
        {
            "cell_type": "markdown",
            "source": [
                "**3.2** Angenommen, du wirst angewiesen die Kundin Barbara Traufer aus der Kunden-Tabelle zu löschen. Würde das Datenbanksystem diese Löschung zulassen? Was gibt es dabei zu beachten? Schreibe deine Überlegungen auf, ohne die Mutation vorzunehmen."
            ],
            "metadata": {
                "azdata_cell_guid": "fe7a46c6-3ef4-4a83-9b01-4f815f8d8983"
            }
        },
        {
            "cell_type": "code",
            "source": [
                "/*\n",
                "Damit die Löschweitergabe aktiviert werden kann, muss zunächst der\n",
                "bestehende Fremdschlüssel entfernt werden\n",
                "\n",
                "ALTER TABLE verkauf.bestellungen DROP CONSTRAINT fk_bestellungen_kunden;\n",
                "-- Nun kann die Löschweitergabe auf der Tabelle bestellungen definiert werden\n",
                "ALTER TABLE verkauf.bestellungen  \n",
                "ADD CONSTRAINT fk_bestellungen_kunden FOREIGN KEY (kundenid) \n",
                "REFERENCES verkauf.kunden(kundenid) ON DELETE CASCADE;"
            ],\n",
                "-- Kunde mit der kundenid 2 löschen\n",
                "DELETE FROM verkauf.kunden WHERE kundenid = 2;\n",
                "*/
            "metadata": {
                "azdata_cell_guid": "2099a488-b22d-47b8-aa2a-3fe2d1872d11",
                "language": "sql"
            },
            "outputs": [],
            "execution_count": null
        }
    ]
}